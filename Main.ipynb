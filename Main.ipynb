{
  "cells": [
    {
      "cell_type": "markdown",
      "id": "cf7ac538",
      "metadata": {
        "tags": [],
        "id": "cf7ac538"
      },
      "source": [
        "# **LL(1) Parser**"
      ]
    },
    {
      "cell_type": "markdown",
      "id": "5f69db41",
      "metadata": {
        "id": "5f69db41"
      },
      "source": [
        "An LL(1) parser is a type of recursive descent parser that can parse a context-free grammar (CFG) in linear time. It is called an LL(1) parser because it reads the input from left to right (L), uses a leftmost derivation (L), and looks one symbol ahead (1)."
      ]
    },
    {
      "cell_type": "markdown",
      "id": "56bd74f0",
      "metadata": {
        "id": "56bd74f0"
      },
      "source": [
        "## Assumptions Used"
      ]
    },
    {
      "cell_type": "markdown",
      "id": "87fb4185",
      "metadata": {
        "tags": [],
        "id": "87fb4185"
      },
      "source": [
        "##### 1) Grammar rules are stored as a dictionary in which each non-terminal is a key and its value is a lsit of this non-terminal's rules as follows:\n",
        "&ensp; **Given the Following Grammar:** <br>\n",
        "&ensp; productionRules = { <br>\n",
        "&emsp; \"E\": [\"E+T\", \"T\", \"Ta\"], <br>\n",
        "&emsp; \"T\": [\"T*F\", \"F\"], <br>\n",
        "&emsp; \"F\": [\"(E)\", \"id\"] <br>\n",
        "##### 2) We replaced any non-terminal that is followed by a (') with a random char for the ease of reading the rules\n",
        "&ensp; (i.e.) E' is converted to A\n",
        "##### 3) # means epsilon \n",
        "##### 4) if the user didn't define the start symbol, we will take the first key in the dictionary\n",
        "##### 5) if the user didn't define the list of terminals and non-terminals, we will proceed it as the capital letters are non-terminals and the rest are terminals\n",
        "&ensp; (i.e.) E is a non-terminal\n",
        "&ensp; (i.e.) e is a terminal"
      ]
    },
    {
      "cell_type": "markdown",
      "id": "39ca38e4",
      "metadata": {
        "id": "39ca38e4"
      },
      "source": [
        "## Stages of LL1 Parsing"
      ]
    },
    {
      "cell_type": "markdown",
      "id": "87211e39",
      "metadata": {
        "tags": [],
        "id": "87211e39"
      },
      "source": [
        "### 1. Left Recursion & Left Factoring Removal"
      ]
    },
    {
      "cell_type": "markdown",
      "id": "a2e19b3b",
      "metadata": {
        "id": "a2e19b3b"
      },
      "source": [
        "##### a] Define the Grammar Rules, Start Symbol and list of terminals"
      ]
    },
    {
      "cell_type": "code",
      "execution_count": null,
      "id": "144c0c12",
      "metadata": {
        "id": "144c0c12"
      },
      "outputs": [],
      "source": [
        "start_symbol = 'E'\n",
        "\n",
        "productionRules = {\n",
        "    \"E'\": [\"+TE'\", \"#\"],\n",
        "    \"E\": [\"TE'\"],\n",
        "    \"T'\": [\"*FT'\", \"#\"],\n",
        "    \"T\": [\"FT'\"],\n",
        "    \"F\": [\"(E)\", \"id\"]\n",
        "}\n",
        "\n",
        "\n",
        "# productionRules = {\n",
        "#     \"E\": [\"E+T\", \"T\"],\n",
        "#     \"T\": [\"T*F\", \"F\"],\n",
        "#     \"F\": [\"(E)\", \"id\"]\n",
        "# }\n"
      ]
    },
    {
      "cell_type": "code",
      "execution_count": null,
      "id": "dc554db5",
      "metadata": {
        "id": "dc554db5"
      },
      "outputs": [],
      "source": [
        "# terminal= set()\n",
        "# non_t= set()\n",
        "# for key in productionRulesV3:\n",
        "#     for rule in productionRulesV3[key]:\n",
        "#         for char in rule:\n",
        "#             if (char.isupper()):\n",
        "#                 non_t.add(char)\n",
        "#             else:\n",
        "#                 if (char !=\"#\"):\n",
        "#                     terminal.add(char)\n",
        "                \n",
        "                \n",
        "                \n",
        "# term_userdef=list(terminal)\n",
        "# nonterm_userdef=list(terminal)\n",
        "                \n",
        "term_userdef =['id', '(', '+', '*', ')','$']"
      ]
    },
    {
      "cell_type": "code",
      "execution_count": null,
      "id": "17893371",
      "metadata": {
        "id": "17893371",
        "outputId": "70538a57-4404-4ce1-d695-69440140bcbf"
      },
      "outputs": [
        {
          "data": {
            "text/plain": [
              "'E'"
            ]
          },
          "execution_count": 3,
          "metadata": {},
          "output_type": "execute_result"
        }
      ],
      "source": [
        "# Find the start symbol\n",
        "if start_symbol == None:\n",
        "  start_symbol = next(iter(productionRules))\n",
        "start_symbol "
      ]
    },
    {
      "cell_type": "markdown",
      "id": "523a06fa",
      "metadata": {
        "id": "523a06fa"
      },
      "source": [
        "##### b] Import Needed Libraries"
      ]
    },
    {
      "cell_type": "code",
      "execution_count": null,
      "id": "9c2715da",
      "metadata": {
        "id": "9c2715da"
      },
      "outputs": [],
      "source": [
        "#Imports\n",
        "import random\n",
        "import string"
      ]
    },
    {
      "cell_type": "markdown",
      "id": "36bb64b0",
      "metadata": {
        "id": "36bb64b0"
      },
      "source": [
        "##### c] (optional) Remove all ' (ie. E' ==> any other random char)"
      ]
    },
    {
      "cell_type": "code",
      "execution_count": null,
      "id": "b1413355",
      "metadata": {
        "id": "b1413355"
      },
      "outputs": [],
      "source": [
        "# A Function to generate a random capital character that is not used in either of the dictionaries\n",
        "def generateKey(originalDictionary, newDictionary):\n",
        "    # Generate a list of uppercase letters\n",
        "    uppercase_letters = list(string.ascii_uppercase)\n",
        "    \n",
        "    # Return a random uppercase letter\n",
        "    return random.choice(uppercase_letters)\n",
        "    \n",
        "    if (randomChar not in originalDictionary) and (randomChar not in newDictionary) :\n",
        "        if randomChar == None:\n",
        "            generateKey(originalDictionary, newDictionary)\n",
        "        else:\n",
        "            return randomChar\n",
        "    else:\n",
        "        generateKey(originalDictionary, newDictionary)\n",
        "    "
      ]
    },
    {
      "cell_type": "code",
      "execution_count": null,
      "id": "b7fb2453",
      "metadata": {
        "id": "b7fb2453"
      },
      "outputs": [],
      "source": [
        "# A Function to update the rule list of each key according to the new generated key\n",
        "\n",
        "# Create a dictionary to store the previous replacements (if the value to be replace was replaced in a previous rule)\n",
        "previous_replacements = {}\n",
        "\n",
        "def updateRuleList (new_key, rule_list):\n",
        "    \n",
        "    # Iterate over the rules list given\n",
        "    for i, rule in enumerate(rule_list):\n",
        "        # Iterate over the characters in the rule\n",
        "        for j, ruleChar in enumerate(rule):\n",
        "            # Check if the character is a \"'\"\n",
        "            if ruleChar == \"'\":\n",
        "                # Replace the character with the new key\n",
        "                rule_list[i] = rule[:j] + new_key + rule[j+1:]\n",
        "                # Remove the previous character to the \"'\"\n",
        "                rule_list[i] = rule_list[i][:j-1] + rule_list[i][j:]\n",
        "                    \n",
        "                # Check if the previous character was previously replaced\n",
        "                if rule[j-1] in previous_replacements:\n",
        "                    # Replace the previous character with the old one\n",
        "                    rule_list[i] = rule_list[i][:j-1] + previous_replacements[rule[j-1]] + rule_list[i][j:]\n",
        "                    \n",
        "                # Update the dictionary with the current replacement\n",
        "                previous_replacements[rule[j-1]] = new_key\n",
        "                \n",
        "    # Return the modified dictionary\n",
        "    return rule_list"
      ]
    },
    {
      "cell_type": "code",
      "execution_count": null,
      "id": "9f2957a1",
      "metadata": {
        "id": "9f2957a1"
      },
      "outputs": [],
      "source": [
        "productionRulesV1 = {}\n",
        "\n",
        "# Iterate over the keys in the dictionary\n",
        "for key in productionRules:\n",
        "    # Generate new random key\n",
        "    newKey = generateKey (productionRules, productionRulesV1)\n",
        "    \n",
        "    flag2=0\n",
        "    # Iterate over the characters of the key\n",
        "    for char2 in key:\n",
        "        if char2 == \"'\":\n",
        "            flag2=1\n",
        "            \n",
        "    if flag2:\n",
        "        previous_replacements[key] = newKey\n",
        "        productionRulesV1[newKey] = updateRuleList(newKey, productionRules[key])\n",
        "    else:\n",
        "        productionRulesV1[key] = updateRuleList(newKey, productionRules[key])\n"
      ]
    },
    {
      "cell_type": "code",
      "execution_count": null,
      "id": "639fa17a",
      "metadata": {
        "id": "639fa17a",
        "outputId": "5ad782f4-5d8d-4213-b77f-f0f101c17090"
      },
      "outputs": [
        {
          "data": {
            "text/plain": [
              "{'J': ['+TJ', '#'],\n",
              " 'E': ['TJ'],\n",
              " 'V': ['*FV', '#'],\n",
              " 'T': ['FV'],\n",
              " 'F': ['(E)', 'id']}"
            ]
          },
          "execution_count": 8,
          "metadata": {},
          "output_type": "execute_result"
        }
      ],
      "source": [
        "# First updated version of the production rules\n",
        "productionRulesV1"
      ]
    },
    {
      "cell_type": "code",
      "execution_count": null,
      "id": "45661ff8",
      "metadata": {
        "id": "45661ff8"
      },
      "outputs": [],
      "source": [
        "def remove_left_recursion(production_rules, new_production_rules):\n",
        "    rulesCount=0\n",
        "    # Iterate over the keys in the rules map\n",
        "    for key in production_rules:\n",
        "        # Iterate over the rules in the list\n",
        "        for i, rule in enumerate(production_rules[key]):\n",
        "            rulesCount+=1\n",
        "            # Check if the key is the first character of the rule\n",
        "            if key == rule[0]:\n",
        "                    print(\"Rule \",rulesCount,\": Is left recurcive\")\n",
        "#                         \"E\": [\"E+T\", \"T\"],\n",
        "\n",
        "#                         TO:\n",
        "\n",
        "#                         \"E\": [\"T S\"],\n",
        "#                         \"S\": [\"+ T S\", \"#\"],\n",
        "\n",
        "                    # Create a new non-terminal symbol (Generate a random capital character that is not used in either of the dictionaries)\n",
        "                    newKey = generateKey(new_production_rules, production_rules)\n",
        "\n",
        "                    # Initialize the new rule list\n",
        "                    newRuleList = []\n",
        "                    originalRuleList = []\n",
        "\n",
        "                    # Iterate over the rules in the list\n",
        "                    for rule in production_rules[key]:\n",
        "                        # If the rule starts with the key, add it to the new rule list with the new key\n",
        "                        if rule[0] == key:\n",
        "                            newRuleList.append(rule[1:] + newKey)\n",
        "                        # Otherwise, keep it in the original rule list with the same original key but with right recursion ==>  + newKey\n",
        "                        else:\n",
        "                            originalRuleList.append(rule + newKey)\n",
        "                    newRuleList.append(\"#\")\n",
        "                    # Add the newRuleList with the newKey to the new_production_rules dictionary\n",
        "                    new_production_rules[newKey] = newRuleList\n",
        "                    # Update the originalRuleList in the new_production_rules dictionary\n",
        "                    new_production_rules[key] = originalRuleList\n",
        "            else:\n",
        "                # Key thant doesn't have left recursion \n",
        "                if key not in new_production_rules:\n",
        "                    originalRuleList = []\n",
        "                    # Iterate over the rules in the list\n",
        "                    for rule in production_rules[key]:\n",
        "                        originalRuleList.append(rule)\n",
        "                    new_production_rules[key] = originalRuleList\n",
        "    return new_production_rules\n"
      ]
    },
    {
      "cell_type": "code",
      "execution_count": null,
      "id": "054ce5d8",
      "metadata": {
        "id": "054ce5d8"
      },
      "outputs": [],
      "source": [
        "def remove_left_factoring(production_rules, new_production_rules):                  \n",
        "    rulesCount=0                \n",
        "    # Iterate over the keys in the rules map\n",
        "    for key in production_rules:\n",
        "        # Iterate over the rules in the list\n",
        "        for i, rule in enumerate(production_rules[key]):\n",
        "            rulesCount+=1\n",
        "            # Check if there is a rule in the current list starting with the same character as the current rule\n",
        "            found = False\n",
        "            for j, s in enumerate(production_rules[key]):\n",
        "                if i != j and s[0] == rule[0]:\n",
        "                    found = True\n",
        "                    break\n",
        "            if found:\n",
        "                print(\"Rule \",rulesCount,\": Has Left factoring\")\n",
        "                \n",
        "#                          \"E\": [\"T\", \"Ta\"]\n",
        "\n",
        "#                         TO:\n",
        "\n",
        "#                         \"E\": [\"TY\"],\n",
        "#                         \"Y\" : [\"#\",\"a\"]\n",
        "\n",
        "                # Create a new non-terminal symbol (Generate a random capital character that is not used in either of the dictionaries)\n",
        "                newKey = generateKey(new_production_rules, production_rules)\n",
        "\n",
        "                # Initialize the new rule list\n",
        "                newRuleList = []\n",
        "                originalRuleList = []\n",
        "\n",
        "                # Iterate over the rules in the list\n",
        "                for rule in production_rules[key]:\n",
        "                    # If there is a rule in the current list starting with the same character as the current rule\n",
        "                    for j, s in enumerate(production_rules[key]):\n",
        "                        if i != j and s[0] == rule[0]:\n",
        "                            newRuleList.append(rule[1:])\n",
        "                            newRuleList.append(s[1:])\n",
        "                            \n",
        "                            if s[1:]==\"\":\n",
        "                                newRuleList.append('#')\n",
        "                                newRuleList.remove('')\n",
        "                            elif rule[1:]==\"\":\n",
        "                                newRuleList.append('#')\n",
        "                                newRuleList.remove('')\n",
        "                                \n",
        "                            \n",
        "                            originalRuleList.append(rule[0]+newKey)\n",
        "                            # Remove both rules from the list\n",
        "                            production_rules[key].remove(rule)\n",
        "                            production_rules[key].remove(s)\n",
        "                            \n",
        "                        elif i != j and s[0] != rule[0]:\n",
        "                            originalRuleList.append(s)\n",
        "                            \n",
        "                        # Add the newRuleList with the newKey to the new_production_rules dictionary\n",
        "                        new_production_rules[newKey] = newRuleList\n",
        "                        # Update the originalRuleList in the new_production_rules dictionary\n",
        "                        new_production_rules[key] = originalRuleList\n",
        "        else:\n",
        "            # Key thant doesn't have left factoring\n",
        "            if key not in new_production_rules:\n",
        "                originalRuleList = []\n",
        "                # Iterate over the rules in the list\n",
        "                for rule in production_rules[key]:\n",
        "                    originalRuleList.append(rule)\n",
        "                new_production_rules[key] = originalRuleList\n",
        "                                               \n",
        "\n",
        "    return new_production_rules\n",
        "            "
      ]
    },
    {
      "cell_type": "code",
      "execution_count": null,
      "id": "a722baa3",
      "metadata": {
        "id": "a722baa3",
        "outputId": "7a7a4f46-f10d-4493-af2c-a09a4fae322d"
      },
      "outputs": [
        {
          "data": {
            "text/plain": [
              "{'J': ['+TJ', '#'],\n",
              " 'E': ['TJ'],\n",
              " 'V': ['*FV', '#'],\n",
              " 'T': ['FV'],\n",
              " 'F': ['(E)', 'id']}"
            ]
          },
          "execution_count": 11,
          "metadata": {},
          "output_type": "execute_result"
        }
      ],
      "source": [
        "# Second updated version of the production rules\n",
        "productionRulesV2 = {}\n",
        "\n",
        "remove_left_recursion(productionRulesV1, productionRulesV2);\n",
        "productionRulesV2"
      ]
    },
    {
      "cell_type": "code",
      "execution_count": null,
      "id": "8601e04d",
      "metadata": {
        "id": "8601e04d",
        "outputId": "584f49c4-27cf-47b5-f27e-2fd9f01d041a"
      },
      "outputs": [
        {
          "data": {
            "text/plain": [
              "{'J': ['+TJ', '#'],\n",
              " 'E': ['TJ'],\n",
              " 'V': ['*FV', '#'],\n",
              " 'T': ['FV'],\n",
              " 'F': ['(E)', 'id']}"
            ]
          },
          "execution_count": 12,
          "metadata": {},
          "output_type": "execute_result"
        }
      ],
      "source": [
        "# Third updated version of the production rules\n",
        "productionRulesV3 = {}\n",
        "\n",
        "remove_left_factoring(productionRulesV2, productionRulesV3);\n",
        "productionRulesV3"
      ]
    },
    {
      "cell_type": "markdown",
      "id": "e9f4c090",
      "metadata": {
        "tags": [],
        "id": "e9f4c090"
      },
      "source": [
        "### 2. Computing FIRST Sets"
      ]
    },
    {
      "cell_type": "code",
      "execution_count": null,
      "id": "981c4cda",
      "metadata": {
        "id": "981c4cda",
        "outputId": "e5f64f0d-1887-4ba7-ec98-b39b00200734"
      },
      "outputs": [
        {
          "data": {
            "text/plain": [
              "{'J': ['+', '#'],\n",
              " 'E': ['(', 'id'],\n",
              " 'V': ['*', '#'],\n",
              " 'T': ['(', 'id'],\n",
              " 'F': ['(', 'id']}"
            ]
          },
          "execution_count": 13,
          "metadata": {},
          "output_type": "execute_result"
        }
      ],
      "source": [
        "first_set={}\n",
        "\n",
        "def comp_first (val):\n",
        "    if(val.split()[0][0] not in productionRulesV3):\n",
        "        if val.islower():\n",
        "            return [val]\n",
        "        else:\n",
        "            return [val[0]]\n",
        "    first=[]\n",
        "    st = val.split()\n",
        "    for value in productionRulesV3[val[0]]:  \n",
        "        if(value.islower()==True):\n",
        "            first.append(value)\n",
        "        elif(st[0]!=value.split()[0]):\n",
        "            first.extend(comp_first(value.split()[0][0]))          \n",
        "    return  first  \n",
        "\n",
        "def comp_first_set (production_rule):\n",
        "    for key in production_rule:\n",
        "        first_set[key] = comp_first(key)\n",
        "    return first_set\n",
        "\n",
        "comp_first_set(productionRulesV3)\n",
        "first_set"
      ]
    },
    {
      "cell_type": "markdown",
      "id": "dbf6742d",
      "metadata": {
        "tags": [],
        "id": "dbf6742d"
      },
      "source": [
        "### 3. Computing FOLLOW Sets"
      ]
    },
    {
      "cell_type": "code",
      "execution_count": null,
      "id": "72c44956",
      "metadata": {
        "id": "72c44956"
      },
      "outputs": [],
      "source": [
        "def FollowSet(nt):\n",
        "    res=[]\n",
        "    ansSet= set()\n",
        "    if nt == start_symbol:\n",
        "        ansSet.add('$')\n",
        "        \n",
        "    for item in productionRulesV3:\n",
        "        rh= productionRulesV3[item]\n",
        "        for subrule in rh:\n",
        "            while nt in subrule:\n",
        "                index_nt = subrule.index(nt)\n",
        "                subrule = subrule[index_nt + 1:]\n",
        "                ####first role of the follow \n",
        "                if len(subrule) != 0: \n",
        "                    res = comp_first(subrule)\n",
        "                    #### second role of follow aBb\n",
        "                    if '#' in res:\n",
        "                        tempList = []\n",
        "                        res.remove('#')\n",
        "                        ansNew = FollowSet(item)\n",
        "                        if ansNew != None:\n",
        "                            if type(ansNew) is list:\n",
        "                                tempList = res + ansNew\n",
        "                            else:\n",
        "                                tempList = res + [ansNew]\n",
        "                        else:\n",
        "                                tempList = res\n",
        "                        res = tempList\n",
        "                else:\n",
        "                    if nt!= item:\n",
        "                        res = FollowSet(item)\n",
        "                    \n",
        "                if res is not None:\n",
        "                    if type(res) is list:\n",
        "                        for i in res:\n",
        "                            ansSet.add(i)\n",
        "                    else:\n",
        "                        ansSet.add(res)\n",
        "    return list(ansSet)"
      ]
    },
    {
      "cell_type": "code",
      "execution_count": null,
      "id": "cfa7922d",
      "metadata": {
        "id": "cfa7922d"
      },
      "outputs": [],
      "source": [
        "follow_set={}\n",
        "\n",
        "def FollowSetCompute():\n",
        "    for elemnt in productionRulesV3:\n",
        "        ansSet= set()\n",
        "        ans= FollowSet(elemnt)\n",
        "        if ans is not None:\n",
        "            for a in ans:\n",
        "                ansSet.add(a)\n",
        "        follow_set[elemnt]= ansSet\n",
        "    print(\"Follow sets :\")\n",
        "    key_list= list(follow_set.keys())\n",
        "    idx=0\n",
        "\n",
        "    for i in follow_set:\n",
        "        print(f\"Follow({key_list[idx]})\" f\" = {follow_set[i]}\")\n",
        "        idx+=1"
      ]
    },
    {
      "cell_type": "code",
      "execution_count": null,
      "id": "a927f65c",
      "metadata": {
        "id": "a927f65c",
        "outputId": "3e6bf126-7694-4a1c-f24f-f6d4ec0b41f2"
      },
      "outputs": [
        {
          "name": "stdout",
          "output_type": "stream",
          "text": [
            "Follow sets :\n",
            "Follow(J) = {')', '$'}\n",
            "Follow(E) = {')', '$'}\n",
            "Follow(V) = {'+', ')', '$'}\n",
            "Follow(T) = {'+', ')', '$'}\n",
            "Follow(F) = {'+', '*', ')', '$'}\n"
          ]
        }
      ],
      "source": [
        "FollowSetCompute()"
      ]
    },
    {
      "cell_type": "markdown",
      "id": "125f0010",
      "metadata": {
        "id": "125f0010"
      },
      "source": [
        "### 4. Generating Parsing Table"
      ]
    },
    {
      "cell_type": "code",
      "execution_count": null,
      "id": "0fc0eeb0",
      "metadata": {
        "id": "0fc0eeb0"
      },
      "outputs": [],
      "source": [
        "def parsingTableFunc(production_rule, firstDic, followsDic):\n",
        "    import copy\n",
        "    print(\"\\nFirsts and Follow table\\n\")\n",
        "    lenfirst = 0\n",
        "    lenfollow = 0\n",
        "    for i in production_rule:\n",
        "        l1 = len(str(firstDic[i]))\n",
        "        l2 = len(str(followsDic[i]))\n",
        "        if l1 > lenfirst:\n",
        "            lenfirst = l1\n",
        "        if l2 > lenfollow:\n",
        "            lenfollow = l2\n",
        "    print(f\"{{:<{10}}} \"\n",
        "        f\"{{:<{lenfirst + 5}}} \"\n",
        "        f\"{{:<{lenfollow + 5}}}\"\n",
        "        .format(\"Non-Terminal\", \"FIRST\", \"FOLLOW\"))\n",
        "    for i in production_rule:\n",
        "        print(f\"{{:<{10}}} \"\n",
        "            f\"{{:<{lenfirst + 5}}} \"\n",
        "            f\"{{:<{lenfollow + 5}}}\"\n",
        "            .format(i, str(firstDic[i]), str(followsDic[i])))\n",
        "    nonterminals = list(production_rule.keys())\n",
        "    terminals = copy.deepcopy(term_userdef)\n",
        "    terminals.append('$')\n",
        "    matrixx = []\n",
        "    for x in production_rule:\n",
        "        row = []\n",
        "        for y in terminals:\n",
        "            row.append('')\n",
        "        matrixx.append(row)\n",
        "    grammar_is_LL = True\n",
        "    for lhs in production_rule:\n",
        "        rhs = production_rule[lhs]\n",
        "        for y in rhs:\n",
        "            res = comp_first(y)\n",
        "            if '#' in res:\n",
        "                res.remove('#')\n",
        "                res = list(res) + list(followsDic[lhs])\n",
        "            ttemp = []\n",
        "            for c in res:\n",
        "                xnt = nonterminals.index(lhs)\n",
        "                yt = terminals.index(c)\n",
        "                if matrixx[xnt][yt] == '':\n",
        "                    matrixx[xnt][yt] = matrixx[xnt][yt]  + f\"{lhs}->{''.join(y)}\"\n",
        "                else:\n",
        "                    if f\"{lhs}->{y}\" in matrixx[xnt][yt]:\n",
        "                        continue\n",
        "                    else:\n",
        "                        grammar_is_LL = False\n",
        "                        matrixx[xnt][yt] = matrixx[xnt][yt] + f\",{lhs}->{''.join(y)}\"\n",
        "    print(\"\\nParsing Table:\\n\")\n",
        "    formatt = \"{:>12}\" * len(terminals)\n",
        "    print(formatt.format(*terminals))\n",
        "    j = 0\n",
        "    for y in matrixx:\n",
        "        formatt1 = \"{:>12}\" * len(y)\n",
        "        print(f\"{nonterminals[j]} {formatt1.format(*y)}\")\n",
        "        j += 1\n",
        "    return (matrixx, grammar_is_LL, terminals)"
      ]
    },
    {
      "cell_type": "code",
      "execution_count": null,
      "id": "030cf947",
      "metadata": {
        "id": "030cf947",
        "outputId": "8a135ac8-b990-40aa-8e79-d1662d377ccc"
      },
      "outputs": [
        {
          "name": "stdout",
          "output_type": "stream",
          "text": [
            "\n",
            "Firsts and Follow table\n",
            "\n",
            "Non-Terminal FIRST            FOLLOW                   \n",
            "J          ['+', '#']       {')', '$'}               \n",
            "E          ['(', 'id']      {')', '$'}               \n",
            "V          ['*', '#']       {'+', ')', '$'}          \n",
            "T          ['(', 'id']      {'+', ')', '$'}          \n",
            "F          ['(', 'id']      {'+', '*', ')', '$'}     \n",
            "\n",
            "Parsing Table:\n",
            "\n",
            "          id           (           +           *           )           $           $\n",
            "J                               J->+TJ                    J->#        J->#            \n",
            "E        E->TJ       E->TJ                                                            \n",
            "V                                 V->#      V->*FV        V->#        V->#            \n",
            "T        T->FV       T->FV                                                            \n",
            "F        F->id      F->(E)                                                            \n"
          ]
        }
      ],
      "source": [
        "(parsing_table, result, tabTerm) = parsingTableFunc(productionRulesV3, first_set, follow_set)"
      ]
    },
    {
      "cell_type": "markdown",
      "id": "e0c81886",
      "metadata": {
        "id": "e0c81886"
      },
      "source": [
        "### 5. Parsing Inputs"
      ]
    },
    {
      "cell_type": "code",
      "execution_count": null,
      "id": "ac53e04d",
      "metadata": {
        "id": "ac53e04d"
      },
      "outputs": [],
      "source": [
        "def check(input_string):\n",
        "    stack = [start_symbol, '$']\n",
        "    input_str = []\n",
        "    input_string.strip()\n",
        "    input_string = input_string.split()\n",
        "    input_string.reverse()\n",
        "    input_str=['$']+input_string\n",
        "    while True:\n",
        "        if stack == ['$'] and input_str == ['$']:\n",
        "            print(\"{:>20} {:>20} {:>25}\".\n",
        "                      format(' '.join(input_str),\n",
        "                             ' '.join(stack),\n",
        "                             f\"T[{stack[0]}][{input_str[-1]}] = {'$'}\"))\n",
        "            print(\"Valid String\")\n",
        "            return\n",
        "        elif stack[0].isupper():\n",
        "            if (input_str[-1] not in term_userdef):\n",
        "                print(\"Invalid String\")\n",
        "                return\n",
        "            x = list(productionRulesV3.keys()).index(stack[0])\n",
        "            y = term_userdef.index(input_str[-1])\n",
        "            if parsing_table[x][y] != '':\n",
        "                entry=parsing_table[x][y]\n",
        "                newstring = entry.split(\"->\")\n",
        "                print(\"{:>20} {:>20} {:>25}\".\n",
        "                      format(' '.join(input_str),\n",
        "                             ' '.join(stack),\n",
        "                             f\"T[{stack[0]}][{input_str[-1]}] = {entry}\"))\n",
        "                newstring[1]=newstring[1].replace('#', '').strip()\n",
        "                st=[]\n",
        "                if newstring[1] not in term_userdef:\n",
        "                    for i in range(len(newstring[1])):\n",
        "                        st.append(newstring[1][i])\n",
        "                    st.extend(stack[1:])\n",
        "                    stack=st\n",
        "                else:\n",
        "                    if(len(newstring[1])>0):\n",
        "                        st=[newstring[1]]\n",
        "                    st.extend(stack[1:])\n",
        "                    stack=st\n",
        "            else:\n",
        "                print(\"Invalid String\")\n",
        "                return\n",
        "        else:\n",
        "            if stack[0] == input_str[-1]:\n",
        "                print(\"{:>20} {:>20} {:>25}\".\n",
        "                      format(' '.join(input_str),\n",
        "                             ' '.join(stack),\n",
        "                             f\"T[{stack[0]}][{input_str[-1]}] = {str(input_str[-1])}\"))\n",
        "                input_str = input_str[:-1]\n",
        "                stack = stack[1:]\n",
        "            else:\n",
        "                print(\"invalid\")\n",
        "                return"
      ]
    },
    {
      "cell_type": "code",
      "execution_count": null,
      "id": "db2d3eaa",
      "metadata": {
        "id": "db2d3eaa",
        "outputId": "60817d2f-ebb5-4718-cb64-e457a8746ade"
      },
      "outputs": [
        {
          "name": "stdout",
          "output_type": "stream",
          "text": [
            " $ id + id * id + id                  E $          T[E][id] = E->TJ\n",
            " $ id + id * id + id                T J $          T[T][id] = T->FV\n",
            " $ id + id * id + id              F V J $          T[F][id] = F->id\n",
            " $ id + id * id + id             id V J $            T[id][id] = id\n",
            "    $ id + id * id +                V J $            T[V][+] = V->#\n",
            "    $ id + id * id +                  J $          T[J][+] = J->+TJ\n",
            "    $ id + id * id +              + T J $               T[+][+] = +\n",
            "      $ id + id * id                T J $          T[T][id] = T->FV\n",
            "      $ id + id * id              F V J $          T[F][id] = F->id\n",
            "      $ id + id * id             id V J $            T[id][id] = id\n",
            "         $ id + id *                V J $          T[V][*] = V->*FV\n",
            "         $ id + id *            * F V J $               T[*][*] = *\n",
            "           $ id + id              F V J $          T[F][id] = F->id\n",
            "           $ id + id             id V J $            T[id][id] = id\n",
            "              $ id +                V J $            T[V][+] = V->#\n",
            "              $ id +                  J $          T[J][+] = J->+TJ\n",
            "              $ id +              + T J $               T[+][+] = +\n",
            "                $ id                T J $          T[T][id] = T->FV\n",
            "                $ id              F V J $          T[F][id] = F->id\n",
            "                $ id             id V J $            T[id][id] = id\n",
            "                   $                V J $            T[V][$] = V->#\n",
            "                   $                  J $            T[J][$] = J->#\n",
            "                   $                    $               T[$][$] = $\n",
            "Valid String\n"
          ]
        }
      ],
      "source": [
        "check(\"id + id * id + id\")"
      ]
    }
  ],
  "metadata": {
    "kernelspec": {
      "display_name": "Python 3 (ipykernel)",
      "language": "python",
      "name": "python3"
    },
    "language_info": {
      "codemirror_mode": {
        "name": "ipython",
        "version": 3
      },
      "file_extension": ".py",
      "mimetype": "text/x-python",
      "name": "python",
      "nbconvert_exporter": "python",
      "pygments_lexer": "ipython3",
      "version": "3.9.12"
    },
    "vscode": {
      "interpreter": {
        "hash": "39a4a6d7f8fc38a008ae506e31b3bc6aeda3bd9537e77552736ea5195b60aa15"
      }
    },
    "colab": {
      "provenance": []
    }
  },
  "nbformat": 4,
  "nbformat_minor": 5
}